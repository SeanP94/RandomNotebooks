{
 "cells": [
  {
   "cell_type": "code",
   "execution_count": 2,
   "metadata": {},
   "outputs": [
    {
     "data": {
      "text/html": [
       "\n",
       "            <div>\n",
       "                <p><b>SparkSession - in-memory</b></p>\n",
       "                \n",
       "        <div>\n",
       "            <p><b>SparkContext</b></p>\n",
       "\n",
       "            <p><a href=\"http://penguin.lxd:4040\">Spark UI</a></p>\n",
       "\n",
       "            <dl>\n",
       "              <dt>Version</dt>\n",
       "                <dd><code>v3.3.2</code></dd>\n",
       "              <dt>Master</dt>\n",
       "                <dd><code>local[*]</code></dd>\n",
       "              <dt>AppName</dt>\n",
       "                <dd><code>Practice</code></dd>\n",
       "            </dl>\n",
       "        </div>\n",
       "        \n",
       "            </div>\n",
       "        "
      ],
      "text/plain": [
       "<pyspark.sql.session.SparkSession at 0x79cc02aca0d0>"
      ]
     },
     "execution_count": 2,
     "metadata": {},
     "output_type": "execute_result"
    }
   ],
   "source": [
    "# Part 1: Setup and get a dataframe\n",
    "import pyspark\n",
    "import pandas as pd\n",
    "from pyspark.sql import SparkSession\n",
    "# Initialize Pyspark\n",
    "spark = SparkSession.builder.appName('Practice').getOrCreate()\n",
    "\n",
    "spark"
   ]
  },
  {
   "cell_type": "code",
   "execution_count": 10,
   "metadata": {},
   "outputs": [],
   "source": [
    "# Create a dataframe from a csv. and print data if wanted.\n",
    "# Option 1\n",
    "df_pyspark = spark \\\n",
    "                .read \\\n",
    "                .option('header', 'true') \\\n",
    "                .csv('test.csv', inferSchema=True)\n",
    "# Option 2\n",
    "df_pyspark = spark.read.csv('test.csv', header=True, inferSchema=True)"
   ]
  },
  {
   "cell_type": "code",
   "execution_count": 12,
   "metadata": {},
   "outputs": [
    {
     "name": "stdout",
     "output_type": "stream",
     "text": [
      "+-----+---+---+------+\n",
      "| name|age|exp|salary|\n",
      "+-----+---+---+------+\n",
      "| sean| 28|  1|  null|\n",
      "| jake| 11|  3| 20000|\n",
      "|henry| 40| 20|100000|\n",
      "+-----+---+---+------+\n",
      "\n"
     ]
    }
   ],
   "source": [
    "# Part2\n",
    "#f_pyspark.select('name').show()\n",
    "#df_pyspark.select(['name','age']).show()\n",
    "#df_pyspark.describe().show()\n",
    "#df_pyspark.dtypes\n",
    "\n",
    "# Adding column in df\n",
    "df_pyspark = df_pyspark.withColumn('experience', df_pyspark['age'] - 10)\n",
    "\n",
    "# Drop it\n",
    "#df_pyspark = df_pyspark.drop('experience')\n",
    "\n",
    "# Rename\n",
    "#df_pyspark.withColumnRenamed('experience', 'experience again').show()NNb \n",
    "df_pyspark = df_pyspark.drop('experience')\n",
    "df_pyspark.show()"
   ]
  },
  {
   "attachments": {},
   "cell_type": "markdown",
   "metadata": {},
   "source": [
    "# Dealing with Null Values and Simple Imputer"
   ]
  },
  {
   "cell_type": "code",
   "execution_count": 17,
   "metadata": {},
   "outputs": [
    {
     "data": {
      "text/plain": [
       "DataFrame[name: string, age: int, exp: int, salary: int]"
      ]
     },
     "execution_count": 17,
     "metadata": {},
     "output_type": "execute_result"
    }
   ],
   "source": [
    "# how=\"any\" Drops rows with any na.\n",
    "# thresh=2 at least 2 non null values should be present, then it drops any.\n",
    "df_pyspark.na.drop(\"any\", thresh=2)#.show()\n",
    "\n",
    "# subset will drop any row with a NA  inside that column\n",
    "df_pyspark.na.drop(\"any\", subset=[\"salary\"])#.show()\n"
   ]
  },
  {
   "cell_type": "code",
   "execution_count": 25,
   "metadata": {},
   "outputs": [
    {
     "name": "stdout",
     "output_type": "stream",
     "text": [
      "+-----+---+---+------+\n",
      "| name|age|exp|salary|\n",
      "+-----+---+---+------+\n",
      "| sean| 28|  1|    42|\n",
      "| jake| 11|  3| 20000|\n",
      "|henry| 40| 20|100000|\n",
      "+-----+---+---+------+\n",
      "\n",
      "+-----+---+---+------+--------------+-----------+\n",
      "| name|age|exp|salary|salary_imputed|age_imputed|\n",
      "+-----+---+---+------+--------------+-----------+\n",
      "| sean| 28|  1|  null|         60000|         28|\n",
      "| jake| 11|  3| 20000|         20000|         11|\n",
      "|henry| 40| 20|100000|        100000|         40|\n",
      "+-----+---+---+------+--------------+-----------+\n",
      "\n"
     ]
    }
   ],
   "source": [
    "# Filling values with the first parameter.\n",
    "# you an subset with the second for any column\n",
    "df_pyspark.na.fill(42, [\"salary\"]).show()\n",
    "\n",
    "# More importantly, we might want to fill it with a mean using imputer:\n",
    "from pyspark.ml.feature import Imputer\n",
    "\n",
    "# NOTE: You can do multiple..\n",
    "imputer = Imputer(\n",
    "    inputCols=[\"salary\", \"age\"],\n",
    "    outputCols=[f\"{x}_imputed\" for x in [\"salary\", \"age\"]]\n",
    ").setStrategy(\"mean\")\n",
    "\n",
    "imputer.fit(df_pyspark).transform(df_pyspark).show()"
   ]
  }
 ],
 "metadata": {
  "kernelspec": {
   "display_name": "base",
   "language": "python",
   "name": "python3"
  },
  "language_info": {
   "codemirror_mode": {
    "name": "ipython",
    "version": 3
   },
   "file_extension": ".py",
   "mimetype": "text/x-python",
   "name": "python",
   "nbconvert_exporter": "python",
   "pygments_lexer": "ipython3",
   "version": "3.9.13"
  },
  "orig_nbformat": 4,
  "vscode": {
   "interpreter": {
    "hash": "b29addbd316d8ab4fb3c92d0313c7d41e0e98ac254cf40f34e652b87fba87609"
   }
  }
 },
 "nbformat": 4,
 "nbformat_minor": 2
}
